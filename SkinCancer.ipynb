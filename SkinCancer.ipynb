{
  "nbformat": 4,
  "nbformat_minor": 0,
  "metadata": {
    "colab": {
      "name": "SkinCancer.ipynb",
      "provenance": [],
      "collapsed_sections": [],
      "toc_visible": true,
      "authorship_tag": "ABX9TyOGwdJvh6b26FRqefMxQJ8C",
      "include_colab_link": true
    },
    "kernelspec": {
      "name": "python3",
      "display_name": "Python 3"
    }
  },
  "cells": [
    {
      "cell_type": "markdown",
      "metadata": {
        "id": "view-in-github",
        "colab_type": "text"
      },
      "source": [
        "<a href=\"https://colab.research.google.com/github/josephmhernandez/SkinCancerDetection/blob/master/SkinCancer.ipynb\" target=\"_parent\"><img src=\"https://colab.research.google.com/assets/colab-badge.svg\" alt=\"Open In Colab\"/></a>"
      ]
    },
    {
      "cell_type": "markdown",
      "metadata": {
        "id": "hgk1m8KuV6kb",
        "colab_type": "text"
      },
      "source": [
        "# Exploring Ham dataset\n"
      ]
    },
    {
      "cell_type": "markdown",
      "metadata": {
        "id": "H2H2wq8fWBHH",
        "colab_type": "text"
      },
      "source": [
        "Exploring the HAM10000 data set. \n",
        "This dataset contains images of skin lesions that have been classified into 7 different categories: \n",
        "\n",
        "1.  bcc -> Basal cell carcinoma: common variant of epithelial skin cancer\n",
        "2. bkl -> Benign keratosis - Generic class. Dermatoscopically, there are three subgroups that could look different but in this dataset they are all grouped together because they are similar biologically and reported under the same generic term. Hard to distinguish between this and melanoma. \n",
        "3. df -> Dermatofibroma: benign skin lesion\n",
        "4. nv -> Melanocytic nevi are benign neoplasms of melanocytes and appear variants that can differ significantly from a dermatoscopic view. \n",
        "5. mel -> Melanoma: malignant neoplasm that may appear in a variety of variants. This dataset excludes non-pigmented subungual, ocular or mucosal melanoma.\n",
        "6. vasc -> Vascular skin lesions could be benign or not.  \n",
        "7. akiec -> Actinic Keratoses and Intraepithelial Carcinoma are common non-invasive, variants of squamous cell carcinoma that can be treated locally without surgery."
      ]
    },
    {
      "cell_type": "code",
      "metadata": {
        "colab_type": "code",
        "outputId": "5e7fed91-f614-4777-c0e1-de471e3be347",
        "id": "J8Ts2t8fW9YM",
        "colab": {
          "base_uri": "https://localhost:8080/",
          "height": 126
        }
      },
      "source": [
        "#Mount Google Drive. \n",
        "from google.colab import drive\n",
        "drive.mount('/content/gdrive')"
      ],
      "execution_count": 0,
      "outputs": [
        {
          "output_type": "stream",
          "text": [
            "Go to this URL in a browser: https://accounts.google.com/o/oauth2/auth?client_id=947318989803-6bn6qk8qdgf4n4g3pfee6491hc0brc4i.apps.googleusercontent.com&redirect_uri=urn%3aietf%3awg%3aoauth%3a2.0%3aoob&response_type=code&scope=email%20https%3a%2f%2fwww.googleapis.com%2fauth%2fdocs.test%20https%3a%2f%2fwww.googleapis.com%2fauth%2fdrive%20https%3a%2f%2fwww.googleapis.com%2fauth%2fdrive.photos.readonly%20https%3a%2f%2fwww.googleapis.com%2fauth%2fpeopleapi.readonly\n",
            "\n",
            "Enter your authorization code:\n",
            "··········\n",
            "Mounted at /content/gdrive\n"
          ],
          "name": "stdout"
        }
      ]
    },
    {
      "cell_type": "markdown",
      "metadata": {
        "id": "MeJefbMKcaEf",
        "colab_type": "text"
      },
      "source": [
        "## Value Counts\n"
      ]
    },
    {
      "cell_type": "code",
      "metadata": {
        "id": "TMNuToM2WuLd",
        "colab_type": "code",
        "colab": {
          "base_uri": "https://localhost:8080/",
          "height": 1000
        },
        "outputId": "0ca5bed5-41c0-42c0-84ac-e1ee5b966182"
      },
      "source": [
        "#Open the csv file and output diagnostics for dataset. \n",
        "import pandas as pd\n",
        "#Import csv file. \n",
        "metaDataCsv = pd.read_csv('gdrive/My Drive/Skin Cancer Detection/HAM10000_metadata.csv')\n",
        "\n",
        "cols = metaDataCsv.columns\n",
        "_temp_str = 'Columns: '\n",
        "for c in cols:\n",
        "    _temp_str += c + ', '\n",
        "_temp_str = _temp_str[:len(_temp_str)-2]\n",
        "print(_temp_str)\n",
        "\n",
        "for c in cols:\n",
        "    print()\n",
        "    print(c + ':')\n",
        "    print(metaDataCsv[c].value_counts())"
      ],
      "execution_count": 31,
      "outputs": [
        {
          "output_type": "stream",
          "text": [
            "Columns: lesion_id, image_id, dx, dx_type, age, sex, localization\n",
            "\n",
            "lesion_id:\n",
            "HAM_0001863    6\n",
            "HAM_0000835    6\n",
            "HAM_0005263    6\n",
            "HAM_0003789    6\n",
            "HAM_0002364    5\n",
            "              ..\n",
            "HAM_0002118    1\n",
            "HAM_0000408    1\n",
            "HAM_0006690    1\n",
            "HAM_0004152    1\n",
            "HAM_0004374    1\n",
            "Name: lesion_id, Length: 7470, dtype: int64\n",
            "\n",
            "image_id:\n",
            "ISIC_0032470    1\n",
            "ISIC_0031829    1\n",
            "ISIC_0030691    1\n",
            "ISIC_0031579    1\n",
            "ISIC_0028900    1\n",
            "               ..\n",
            "ISIC_0031507    1\n",
            "ISIC_0033737    1\n",
            "ISIC_0024714    1\n",
            "ISIC_0024856    1\n",
            "ISIC_0032968    1\n",
            "Name: image_id, Length: 10015, dtype: int64\n",
            "\n",
            "dx:\n",
            "nv       6705\n",
            "mel      1113\n",
            "bkl      1099\n",
            "bcc       514\n",
            "akiec     327\n",
            "vasc      142\n",
            "df        115\n",
            "Name: dx, dtype: int64\n",
            "\n",
            "dx_type:\n",
            "histo        5340\n",
            "follow_up    3704\n",
            "consensus     902\n",
            "confocal       69\n",
            "Name: dx_type, dtype: int64\n",
            "\n",
            "age:\n",
            "45.0    1299\n",
            "50.0    1187\n",
            "55.0    1009\n",
            "40.0     985\n",
            "60.0     803\n",
            "70.0     756\n",
            "35.0     753\n",
            "65.0     731\n",
            "75.0     618\n",
            "30.0     464\n",
            "80.0     404\n",
            "85.0     290\n",
            "25.0     247\n",
            "20.0     169\n",
            "5.0       86\n",
            "15.0      77\n",
            "10.0      41\n",
            "0.0       39\n",
            "Name: age, dtype: int64\n",
            "\n",
            "sex:\n",
            "male       5406\n",
            "female     4552\n",
            "unknown      57\n",
            "Name: sex, dtype: int64\n",
            "\n",
            "localization:\n",
            "back               2192\n",
            "lower extremity    2077\n",
            "trunk              1404\n",
            "upper extremity    1118\n",
            "abdomen            1022\n",
            "face                745\n",
            "chest               407\n",
            "foot                319\n",
            "unknown             234\n",
            "neck                168\n",
            "scalp               128\n",
            "hand                 90\n",
            "ear                  56\n",
            "genital              48\n",
            "acral                 7\n",
            "Name: localization, dtype: int64\n"
          ],
          "name": "stdout"
        }
      ]
    },
    {
      "cell_type": "markdown",
      "metadata": {
        "id": "RIyrvpEEdKq0",
        "colab_type": "text"
      },
      "source": [
        "## Distrubtion of Images"
      ]
    },
    {
      "cell_type": "code",
      "metadata": {
        "id": "I0RQ4Vw1ZYQv",
        "colab_type": "code",
        "colab": {
          "base_uri": "https://localhost:8080/",
          "height": 177
        },
        "outputId": "588552b4-5e9a-4326-c0ee-2ae001e2164f"
      },
      "source": [
        "#Distribution of diagnosed leisons. \n",
        "dx_counts = metaDataCsv['dx'].value_counts()\n",
        "\n",
        "_size = metaDataCsv['dx'].size\n",
        "print('dx:\\tCount:\\tPercent:')\n",
        "for key,val in dx_counts.iteritems():\n",
        "    _percentage = val / _size * 100\n",
        "    print(key + '\\t'+ str(val) + '\\t' + '{0:.2f}'.format(_percentage) + '%')\n",
        "print('Total images: ' + str(_size))\n",
        "    "
      ],
      "execution_count": 30,
      "outputs": [
        {
          "output_type": "stream",
          "text": [
            "dx:\tCount:\tPercent:\n",
            "nv\t6705\t66.95%\n",
            "mel\t1113\t11.11%\n",
            "bkl\t1099\t10.97%\n",
            "bcc\t514\t5.13%\n",
            "akiec\t327\t3.27%\n",
            "vasc\t142\t1.42%\n",
            "df\t115\t1.15%\n",
            "Total images: 10015\n"
          ],
          "name": "stdout"
        }
      ]
    },
    {
      "cell_type": "markdown",
      "metadata": {
        "id": "lTsVvnIjY5LA",
        "colab_type": "text"
      },
      "source": [
        "From looking at the data we can see the type of skin leison in this dataset is not evenly distributed througout the seven types. We can also see that there were different pictures from the same leison. When differentiating images we should use the image_id as a key. From looking at the percentage of the vlaues are in nv the baseline for the model will need to be an accuracy above 67%.\n",
        "\n",
        "For image classification, the only necessary data from this csv file will be the image_id and the diagnosis. The images were named with the image_id. \n",
        "\n",
        "Training data for the model will be the pixels of the image and the diagnosis (dx) will be label. \n",
        "\n"
      ]
    },
    {
      "cell_type": "markdown",
      "metadata": {
        "id": "mnAaekmEdZVp",
        "colab_type": "text"
      },
      "source": [
        "# Preprocessing Images\n"
      ]
    },
    {
      "cell_type": "code",
      "metadata": {
        "id": "Xt2S_lLHdgit",
        "colab_type": "code",
        "colab": {}
      },
      "source": [
        "#Mount to google drive. \n",
        "#Create dictionary with image_id, dx for the training labels. \n",
        "#Open all images in the google drive folders and convert images to a 3 dimensional\n",
        "#   tesnor (height, width, depth). \n",
        "#Save image tesnors as .npy files so that it'll be quicker to train the model. \n",
        "    #Storing images as .npy files will allow us to quickly access the pixel \n",
        "        #values for each image in order to train the model quicker. This format \n",
        "        #will also allow us to create a funciton generator to use multiprocessing\n",
        "        #to train/test the neural network. "
      ],
      "execution_count": 0,
      "outputs": []
    }
  ]
}